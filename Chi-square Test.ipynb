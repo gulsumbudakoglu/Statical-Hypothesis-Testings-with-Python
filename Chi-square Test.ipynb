{
 "cells": [
  {
   "cell_type": "markdown",
   "metadata": {},
   "source": [
    "## Chi-square Test using:"
   ]
  },
  {
   "cell_type": "code",
   "execution_count": 16,
   "metadata": {},
   "outputs": [],
   "source": [
    "from scipy import stats\n",
    "import matplotlib.pyplot as plt\n",
    "from scipy.stats import ttest_ind\n",
    "import numpy as np\n",
    "import matplotlib.pyplot as plt\n",
    "from pandas import DataFrame\n",
    "import seaborn as sns\n",
    "import pandas as pd\n",
    "import scipy\n",
    "from scipy.stats import chi2\n",
    "from scipy.stats import chi2_contingency"
   ]
  },
  {
   "cell_type": "code",
   "execution_count": 5,
   "metadata": {},
   "outputs": [
    {
     "data": {
      "text/html": [
       "<style>\n",
       "table {float:left}\n",
       "</style>\n"
      ],
      "text/plain": [
       "<IPython.core.display.HTML object>"
      ]
     },
     "metadata": {},
     "output_type": "display_data"
    }
   ],
   "source": [
    "%%html\n",
    "<style>\n",
    "table {float:left}\n",
    "</style>"
   ]
  },
  {
   "cell_type": "markdown",
   "metadata": {},
   "source": [
    "A group of scientists gives a series of seminars on the advantages of getting vaccinated. After the seminars, the scientists want to know whether people have changed their opinion about getting vaccinated. Given in the following tables are the data based on a survey of 800 randomly chosen people.     \n",
    "**Please conduct related hypothesis testing using a 0.01 significance level. Before doing hypothesis testing, check the related assumptions. Comment on the results.**\n",
    "\n",
    "**Table 1: Before the Seminars**\n",
    "\n",
    "| Positive | Negative | Neutral | No Opinion |\n",
    "|----------|----------|---------|------------|\n",
    "| 0.38     | 0.28     | 0.13    | 0.21       |   \n",
    "\n",
    "**Table 2: After the Seminars** \n",
    "\n",
    "| Positive | Negative | Neutral | No Opinion |\n",
    "|----------|----------|---------|------------|\n",
    "| 0.49    | 0.26     | 0.09    | 0.16       |\n"
   ]
  },
  {
   "cell_type": "code",
   "execution_count": 8,
   "metadata": {},
   "outputs": [
    {
     "data": {
      "text/html": [
       "<div>\n",
       "<style scoped>\n",
       "    .dataframe tbody tr th:only-of-type {\n",
       "        vertical-align: middle;\n",
       "    }\n",
       "\n",
       "    .dataframe tbody tr th {\n",
       "        vertical-align: top;\n",
       "    }\n",
       "\n",
       "    .dataframe thead th {\n",
       "        text-align: right;\n",
       "    }\n",
       "</style>\n",
       "<table border=\"1\" class=\"dataframe\">\n",
       "  <thead>\n",
       "    <tr style=\"text-align: right;\">\n",
       "      <th></th>\n",
       "      <th>Positive</th>\n",
       "      <th>Negative</th>\n",
       "      <th>Neutral</th>\n",
       "      <th>No Opinion</th>\n",
       "    </tr>\n",
       "  </thead>\n",
       "  <tbody>\n",
       "    <tr>\n",
       "      <th>Before</th>\n",
       "      <td>304</td>\n",
       "      <td>224</td>\n",
       "      <td>104</td>\n",
       "      <td>168</td>\n",
       "    </tr>\n",
       "    <tr>\n",
       "      <th>After</th>\n",
       "      <td>392</td>\n",
       "      <td>208</td>\n",
       "      <td>72</td>\n",
       "      <td>128</td>\n",
       "    </tr>\n",
       "  </tbody>\n",
       "</table>\n",
       "</div>"
      ],
      "text/plain": [
       "        Positive  Negative  Neutral  No Opinion\n",
       "Before       304       224      104         168\n",
       "After        392       208       72         128"
      ]
     },
     "execution_count": 8,
     "metadata": {},
     "output_type": "execute_result"
    }
   ],
   "source": [
    "#create Crosstab.\n",
    "ar=np.array([[304,224,104, 168],[392, 208, 72, 128]])    \n",
    "df=pd.DataFrame(ar, columns=[\"Positive\", \"Negative\", \"Neutral\", \"No Opinion\"])\n",
    "df.index=[\"Before\", \"After\"] \n",
    "df"
   ]
  },
  {
   "cell_type": "markdown",
   "metadata": {},
   "source": [
    "we can see that we have a stuations which are after and before the seminar with different populations. Thus, our case is independent. we can use chi-square test. The Chi-square test of independence tests if there is a significant relationship between two categorical variables.\n",
    "The hypothesis being test is:\n",
    "\n",
    "The H0 (Null Hypothesis): There is no relationship between variable one and variable two(i.e. there is no change of opinion about vacine after the seminar.)\n",
    "The H1 (Alternative Hypothesis): There is a relationship between variable 1 and variable 2.(i.e. there is a difference about opinion about vacine after the seminar.)\n",
    "\n",
    "If the p-value is significant, you can reject the null hypothesis and claim that the findings support the alternative hypothesis.\n",
    "\n",
    "First check of the assumptions:"
   ]
  },
  {
   "cell_type": "markdown",
   "metadata": {},
   "source": [
    "We want to use Pearson’s chi-squared test to examine whether these two variables, “Before” and “After the Survey”, are statistically linked (= alternative hypothesis) or statistically independent (= null hypothesis). In this example, we set our α-level at 0.01."
   ]
  },
  {
   "cell_type": "code",
   "execution_count": 9,
   "metadata": {},
   "outputs": [
    {
     "data": {
      "text/html": [
       "<div>\n",
       "<style scoped>\n",
       "    .dataframe tbody tr th:only-of-type {\n",
       "        vertical-align: middle;\n",
       "    }\n",
       "\n",
       "    .dataframe tbody tr th {\n",
       "        vertical-align: top;\n",
       "    }\n",
       "\n",
       "    .dataframe thead th {\n",
       "        text-align: right;\n",
       "    }\n",
       "</style>\n",
       "<table border=\"1\" class=\"dataframe\">\n",
       "  <thead>\n",
       "    <tr style=\"text-align: right;\">\n",
       "      <th></th>\n",
       "      <th>Positive</th>\n",
       "      <th>Negative</th>\n",
       "      <th>Neutral</th>\n",
       "      <th>No Opinion</th>\n",
       "      <th>Row_Total</th>\n",
       "    </tr>\n",
       "  </thead>\n",
       "  <tbody>\n",
       "    <tr>\n",
       "      <th>Before</th>\n",
       "      <td>304</td>\n",
       "      <td>224</td>\n",
       "      <td>104</td>\n",
       "      <td>168</td>\n",
       "      <td>800</td>\n",
       "    </tr>\n",
       "    <tr>\n",
       "      <th>After</th>\n",
       "      <td>392</td>\n",
       "      <td>208</td>\n",
       "      <td>72</td>\n",
       "      <td>128</td>\n",
       "      <td>800</td>\n",
       "    </tr>\n",
       "    <tr>\n",
       "      <th>Column_Total</th>\n",
       "      <td>696</td>\n",
       "      <td>432</td>\n",
       "      <td>176</td>\n",
       "      <td>296</td>\n",
       "      <td>1600</td>\n",
       "    </tr>\n",
       "  </tbody>\n",
       "</table>\n",
       "</div>"
      ],
      "text/plain": [
       "              Positive  Negative  Neutral  No Opinion  Row_Total\n",
       "Before             304       224      104         168        800\n",
       "After              392       208       72         128        800\n",
       "Column_Total       696       432      176         296       1600"
      ]
     },
     "execution_count": 9,
     "metadata": {},
     "output_type": "execute_result"
    }
   ],
   "source": [
    "df2=df.copy() # create contingency table with the marginal totals and the grand total. \n",
    "df2.loc['Column_Total']= df2.sum(numeric_only=True, axis=0)\n",
    "df2.loc[:,'Row_Total'] = df2.sum(numeric_only=True, axis=1)\n",
    "df2"
   ]
  },
  {
   "cell_type": "code",
   "execution_count": 10,
   "metadata": {},
   "outputs": [
    {
     "data": {
      "text/html": [
       "<div>\n",
       "<style scoped>\n",
       "    .dataframe tbody tr th:only-of-type {\n",
       "        vertical-align: middle;\n",
       "    }\n",
       "\n",
       "    .dataframe tbody tr th {\n",
       "        vertical-align: top;\n",
       "    }\n",
       "\n",
       "    .dataframe thead th {\n",
       "        text-align: right;\n",
       "    }\n",
       "</style>\n",
       "<table border=\"1\" class=\"dataframe\">\n",
       "  <thead>\n",
       "    <tr style=\"text-align: right;\">\n",
       "      <th></th>\n",
       "      <th>Positive</th>\n",
       "      <th>Negative</th>\n",
       "      <th>Neutral</th>\n",
       "      <th>No Opinion</th>\n",
       "    </tr>\n",
       "  </thead>\n",
       "  <tbody>\n",
       "    <tr>\n",
       "      <th>Before</th>\n",
       "      <td>348</td>\n",
       "      <td>216</td>\n",
       "      <td>88</td>\n",
       "      <td>148</td>\n",
       "    </tr>\n",
       "    <tr>\n",
       "      <th>After</th>\n",
       "      <td>348</td>\n",
       "      <td>216</td>\n",
       "      <td>88</td>\n",
       "      <td>148</td>\n",
       "    </tr>\n",
       "  </tbody>\n",
       "</table>\n",
       "</div>"
      ],
      "text/plain": [
       "        Positive  Negative  Neutral  No Opinion\n",
       "Before       348       216       88         148\n",
       "After        348       216       88         148"
      ]
     },
     "execution_count": 10,
     "metadata": {},
     "output_type": "execute_result"
    }
   ],
   "source": [
    "n=df2.at[\"Column_Total\", \"Row_Total\"]  # grand total \n",
    "\n",
    "exp=df2.copy()               # create dataframe with expected counts\n",
    "for x in exp.index[0:-1]:\n",
    "    for y in exp.columns[0:-1]:\n",
    "        # round expected values to 6 decimal places to get the maximum available precision:\n",
    "        v= (((df2.at[x, \"Row_Total\"]) * (df2.at[\"Column_Total\", y])   )   /n ).round(6) \n",
    "        exp.at[x,y]=float(v)\n",
    "\n",
    "exp = exp.iloc[[0,1], [0,1,2,3]]\n",
    "exp"
   ]
  },
  {
   "cell_type": "code",
   "execution_count": 11,
   "metadata": {},
   "outputs": [
    {
     "data": {
      "text/plain": [
       "22.942616597789012"
      ]
     },
     "execution_count": 11,
     "metadata": {},
     "output_type": "execute_result"
    }
   ],
   "source": [
    "#Let’s first calculate our test-statistic without Yates’ correction. We apply the aforementioned formula for χ2 and get:\n",
    "tstat = np.sum(((df-exp)**2/exp).values)\n",
    "tstat"
   ]
  },
  {
   "cell_type": "code",
   "execution_count": 12,
   "metadata": {},
   "outputs": [
    {
     "data": {
      "text/plain": [
       "3"
      ]
     },
     "execution_count": 12,
     "metadata": {},
     "output_type": "execute_result"
    }
   ],
   "source": [
    "#After that we want to obtain our degrees of freedom:\n",
    "dof = (len(df.columns)-1)*(len(df.index)-1) # determine degrees of freedom \n",
    "dof"
   ]
  },
  {
   "cell_type": "code",
   "execution_count": 14,
   "metadata": {},
   "outputs": [
    {
     "data": {
      "text/plain": [
       "4.1510596975213865e-05"
      ]
     },
     "execution_count": 14,
     "metadata": {},
     "output_type": "execute_result"
    }
   ],
   "source": [
    "#Now we can calculate the corresponding p-value by using the cumulative distribution function given the degrees of freedom:\n",
    "pval=1-chi2.cdf(tstat, dof) # subtract the cumulative distribution function from 1\n",
    "pval"
   ]
  },
  {
   "cell_type": "code",
   "execution_count": 17,
   "metadata": {},
   "outputs": [
    {
     "name": "stdout",
     "output_type": "stream",
     "text": [
      "Chi-squared test statistic without Yates correction (Scipy): 22.942616597789012\n",
      "P-value without Yates correction (Scipy): 4.151059697524019e-05\n"
     ]
    }
   ],
   "source": [
    "#Finally, we want to verify our result by comparing it to Python’s built-in function scipy.stats.chi2_contingency.\n",
    "#For now, we do not want to apply Yates’ correction, therefore we choose “correction=False”:\n",
    "\n",
    "tstat_scipy,pval_scipy,ddof_scipy,exp_scipy=chi2_contingency(df, correction=False) # \"correction=False\" means no Yates' correction is used! \n",
    "print(\"Chi-squared test statistic without Yates correction (Scipy): \" + str(tstat_scipy))\n",
    "print(\"P-value without Yates correction (Scipy): \" + str(pval_scipy))"
   ]
  },
  {
   "cell_type": "markdown",
   "metadata": {},
   "source": [
    "We are pleased to come upon identical results. As we can see, our p-value is less than our α-level of 0.01. Hence, we would reject the null hypothesis.  At this significance level, it can be concluded that people changed their opinion."
   ]
  }
 ],
 "metadata": {
  "kernelspec": {
   "display_name": "Python 3",
   "language": "python",
   "name": "python3"
  },
  "language_info": {
   "codemirror_mode": {
    "name": "ipython",
    "version": 3
   },
   "file_extension": ".py",
   "mimetype": "text/x-python",
   "name": "python",
   "nbconvert_exporter": "python",
   "pygments_lexer": "ipython3",
   "version": "3.8.5"
  }
 },
 "nbformat": 4,
 "nbformat_minor": 4
}
